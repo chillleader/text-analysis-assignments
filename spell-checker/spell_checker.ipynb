{
 "cells": [
  {
   "cell_type": "code",
   "execution_count": 1,
   "id": "39064452-635c-4f8e-98cc-623cb995f209",
   "metadata": {},
   "outputs": [],
   "source": [
    "import jaro"
   ]
  },
  {
   "cell_type": "code",
   "execution_count": 2,
   "id": "042e9bb7-179c-4889-b50c-c0dd5d06324d",
   "metadata": {},
   "outputs": [
    {
     "name": "stdout",
     "output_type": "stream",
     "text": [
      "Read vocabulary of 29215 words\n"
     ]
    }
   ],
   "source": [
    "words = list()\n",
    "\n",
    "with open(\"vocab.txt\", 'r') as fp:\n",
    "    words = fp.read().split()\n",
    "\n",
    "vocab = set(words)\n",
    "print(\"Read vocabulary of {} words\".format(len(vocab)))"
   ]
  },
  {
   "cell_type": "code",
   "execution_count": 3,
   "id": "afb135de-c37c-420b-a51d-92145afa8992",
   "metadata": {},
   "outputs": [],
   "source": [
    "def get_candidates(word):\n",
    "    candidates = {}\n",
    "    if word in vocab: candidates[word] = 1\n",
    "    else:\n",
    "        for candidate in vocab:\n",
    "            dist = jaro.jaro_winkler_metric(candidate, word)\n",
    "            if dist > 0.9: candidates[candidate] = dist\n",
    "    return candidates"
   ]
  },
  {
   "cell_type": "code",
   "execution_count": 9,
   "id": "dea9aa59-1ef8-46f1-9676-f6dff1454375",
   "metadata": {},
   "outputs": [
    {
     "data": {
      "text/plain": [
       "{'south': 0.9666666666666667}"
      ]
     },
     "execution_count": 9,
     "metadata": {},
     "output_type": "execute_result"
    }
   ],
   "source": [
    "get_candidates(\"southf\")"
   ]
  },
  {
   "cell_type": "code",
   "execution_count": null,
   "id": "0a6d5c67-7deb-41c9-af41-50a0c04bbf9e",
   "metadata": {},
   "outputs": [],
   "source": []
  }
 ],
 "metadata": {
  "kernelspec": {
   "display_name": "Python 3 (ipykernel)",
   "language": "python",
   "name": "python3"
  },
  "language_info": {
   "codemirror_mode": {
    "name": "ipython",
    "version": 3
   },
   "file_extension": ".py",
   "mimetype": "text/x-python",
   "name": "python",
   "nbconvert_exporter": "python",
   "pygments_lexer": "ipython3",
   "version": "3.9.7"
  }
 },
 "nbformat": 4,
 "nbformat_minor": 5
}
